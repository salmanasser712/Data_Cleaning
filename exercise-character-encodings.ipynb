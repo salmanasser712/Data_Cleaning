{
 "cells": [
  {
   "cell_type": "markdown",
   "id": "530831da",
   "metadata": {
    "papermill": {
     "duration": 0.006168,
     "end_time": "2022-06-24T20:19:43.690715",
     "exception": false,
     "start_time": "2022-06-24T20:19:43.684547",
     "status": "completed"
    },
    "tags": []
   },
   "source": [
    "**This notebook is an exercise in the [Data Cleaning](https://www.kaggle.com/learn/data-cleaning) course.  You can reference the tutorial at [this link](https://www.kaggle.com/alexisbcook/character-encodings).**\n",
    "\n",
    "---\n"
   ]
  },
  {
   "cell_type": "markdown",
   "id": "78e438cb",
   "metadata": {
    "papermill": {
     "duration": 0.005026,
     "end_time": "2022-06-24T20:19:43.701099",
     "exception": false,
     "start_time": "2022-06-24T20:19:43.696073",
     "status": "completed"
    },
    "tags": []
   },
   "source": [
    "In this exercise, you'll apply what you learned in the **Character encodings** tutorial.\n",
    "\n",
    "# Setup\n",
    "\n",
    "The questions below will give you feedback on your work. Run the following cell to set up the feedback system."
   ]
  },
  {
   "cell_type": "code",
   "execution_count": 1,
   "id": "4a82ac11",
   "metadata": {
    "execution": {
     "iopub.execute_input": "2022-06-24T20:19:43.713431Z",
     "iopub.status.busy": "2022-06-24T20:19:43.712531Z",
     "iopub.status.idle": "2022-06-24T20:19:43.795790Z",
     "shell.execute_reply": "2022-06-24T20:19:43.795015Z"
    },
    "papermill": {
     "duration": 0.092719,
     "end_time": "2022-06-24T20:19:43.798818",
     "exception": false,
     "start_time": "2022-06-24T20:19:43.706099",
     "status": "completed"
    },
    "tags": []
   },
   "outputs": [
    {
     "name": "stdout",
     "output_type": "stream",
     "text": [
      "Setup Complete\n"
     ]
    }
   ],
   "source": [
    "from learntools.core import binder\n",
    "binder.bind(globals())\n",
    "from learntools.data_cleaning.ex4 import *\n",
    "print(\"Setup Complete\")"
   ]
  },
  {
   "cell_type": "markdown",
   "id": "9a9ae217",
   "metadata": {
    "papermill": {
     "duration": 0.005168,
     "end_time": "2022-06-24T20:19:43.809190",
     "exception": false,
     "start_time": "2022-06-24T20:19:43.804022",
     "status": "completed"
    },
    "tags": []
   },
   "source": [
    "# Get our environment set up\n",
    "\n",
    "The first thing we'll need to do is load in the libraries we'll be using."
   ]
  },
  {
   "cell_type": "code",
   "execution_count": 2,
   "id": "96fe3848",
   "metadata": {
    "execution": {
     "iopub.execute_input": "2022-06-24T20:19:43.821897Z",
     "iopub.status.busy": "2022-06-24T20:19:43.821243Z",
     "iopub.status.idle": "2022-06-24T20:19:43.825905Z",
     "shell.execute_reply": "2022-06-24T20:19:43.825112Z"
    },
    "papermill": {
     "duration": 0.013599,
     "end_time": "2022-06-24T20:19:43.828225",
     "exception": false,
     "start_time": "2022-06-24T20:19:43.814626",
     "status": "completed"
    },
    "tags": []
   },
   "outputs": [],
   "source": [
    "# modules we'll use\n",
    "import pandas as pd\n",
    "import numpy as np\n",
    "\n",
    "# helpful character encoding module\n",
    "import chardet\n",
    "\n",
    "# set seed for reproducibility\n",
    "np.random.seed(0)"
   ]
  },
  {
   "cell_type": "markdown",
   "id": "fdacaf6b",
   "metadata": {
    "papermill": {
     "duration": 0.004956,
     "end_time": "2022-06-24T20:19:43.838317",
     "exception": false,
     "start_time": "2022-06-24T20:19:43.833361",
     "status": "completed"
    },
    "tags": []
   },
   "source": [
    "# 1) What are encodings?\n",
    "\n",
    "You're working with a dataset composed of bytes.  Run the code cell below to print a sample entry."
   ]
  },
  {
   "cell_type": "code",
   "execution_count": 3,
   "id": "0ee22ea8",
   "metadata": {
    "execution": {
     "iopub.execute_input": "2022-06-24T20:19:43.850262Z",
     "iopub.status.busy": "2022-06-24T20:19:43.849839Z",
     "iopub.status.idle": "2022-06-24T20:19:43.855614Z",
     "shell.execute_reply": "2022-06-24T20:19:43.854457Z"
    },
    "papermill": {
     "duration": 0.014344,
     "end_time": "2022-06-24T20:19:43.857854",
     "exception": false,
     "start_time": "2022-06-24T20:19:43.843510",
     "status": "completed"
    },
    "tags": []
   },
   "outputs": [
    {
     "name": "stdout",
     "output_type": "stream",
     "text": [
      "b'\\xa7A\\xa6n'\n",
      "data type: <class 'bytes'>\n"
     ]
    }
   ],
   "source": [
    "sample_entry = b'\\xa7A\\xa6n'\n",
    "print(sample_entry)\n",
    "print('data type:', type(sample_entry))"
   ]
  },
  {
   "cell_type": "markdown",
   "id": "806eb32a",
   "metadata": {
    "papermill": {
     "duration": 0.004831,
     "end_time": "2022-06-24T20:19:43.867856",
     "exception": false,
     "start_time": "2022-06-24T20:19:43.863025",
     "status": "completed"
    },
    "tags": []
   },
   "source": [
    "You notice that it doesn't use the standard UTF-8 encoding. \n",
    "\n",
    "Use the next code cell to create a variable `new_entry` that changes the encoding from `\"big5-tw\"` to `\"utf-8\"`.  `new_entry` should have the bytes datatype."
   ]
  },
  {
   "cell_type": "code",
   "execution_count": 4,
   "id": "931f5be9",
   "metadata": {
    "execution": {
     "iopub.execute_input": "2022-06-24T20:19:43.879683Z",
     "iopub.status.busy": "2022-06-24T20:19:43.879277Z",
     "iopub.status.idle": "2022-06-24T20:19:43.890937Z",
     "shell.execute_reply": "2022-06-24T20:19:43.890096Z"
    },
    "papermill": {
     "duration": 0.020207,
     "end_time": "2022-06-24T20:19:43.893127",
     "exception": false,
     "start_time": "2022-06-24T20:19:43.872920",
     "status": "completed"
    },
    "tags": []
   },
   "outputs": [
    {
     "data": {
      "application/javascript": [
       "parent.postMessage({\"jupyterEvent\": \"custom.exercise_interaction\", \"data\": {\"outcomeType\": 1, \"valueTowardsCompletion\": 0.3333333333333333, \"interactionType\": 1, \"questionType\": 1, \"questionId\": \"1_EncodingsIntro\", \"learnToolsVersion\": \"0.3.4\", \"failureMessage\": \"\", \"exceptionClass\": \"\", \"trace\": \"\"}}, \"*\")"
      ],
      "text/plain": [
       "<IPython.core.display.Javascript object>"
      ]
     },
     "metadata": {},
     "output_type": "display_data"
    },
    {
     "data": {
      "text/markdown": [
       "<span style=\"color:#33cc33\">Correct</span>"
      ],
      "text/plain": [
       "Correct"
      ]
     },
     "metadata": {},
     "output_type": "display_data"
    }
   ],
   "source": [
    "new_entry = sample_entry.decode(\"big5-tw\").encode(\"utf-8\", errors=\"replace\")\n",
    "\n",
    "# Check your answer\n",
    "q1.check()"
   ]
  },
  {
   "cell_type": "code",
   "execution_count": 5,
   "id": "3bcc8d81",
   "metadata": {
    "execution": {
     "iopub.execute_input": "2022-06-24T20:19:43.906194Z",
     "iopub.status.busy": "2022-06-24T20:19:43.905788Z",
     "iopub.status.idle": "2022-06-24T20:19:43.910325Z",
     "shell.execute_reply": "2022-06-24T20:19:43.909206Z"
    },
    "papermill": {
     "duration": 0.013801,
     "end_time": "2022-06-24T20:19:43.912545",
     "exception": false,
     "start_time": "2022-06-24T20:19:43.898744",
     "status": "completed"
    },
    "tags": []
   },
   "outputs": [],
   "source": [
    "# Lines below will give you a hint or solution code\n",
    "#q1.hint()\n",
    "#q1.solution()"
   ]
  },
  {
   "cell_type": "markdown",
   "id": "631ed58d",
   "metadata": {
    "papermill": {
     "duration": 0.005281,
     "end_time": "2022-06-24T20:19:43.923451",
     "exception": false,
     "start_time": "2022-06-24T20:19:43.918170",
     "status": "completed"
    },
    "tags": []
   },
   "source": [
    "# 2) Reading in files with encoding problems\n",
    "\n",
    "Use the code cell below to read in this file at path `\"../input/fatal-police-shootings-in-the-us/PoliceKillingsUS.csv\"`.  \n",
    "\n",
    "Figure out what the correct encoding should be and read in the file to a DataFrame `police_killings`."
   ]
  },
  {
   "cell_type": "code",
   "execution_count": 6,
   "id": "9ea73518",
   "metadata": {
    "execution": {
     "iopub.execute_input": "2022-06-24T20:19:43.936395Z",
     "iopub.status.busy": "2022-06-24T20:19:43.935817Z",
     "iopub.status.idle": "2022-06-24T20:19:45.417421Z",
     "shell.execute_reply": "2022-06-24T20:19:45.416116Z"
    },
    "papermill": {
     "duration": 1.490812,
     "end_time": "2022-06-24T20:19:45.419696",
     "exception": false,
     "start_time": "2022-06-24T20:19:43.928884",
     "status": "completed"
    },
    "tags": []
   },
   "outputs": [
    {
     "name": "stdout",
     "output_type": "stream",
     "text": [
      "{'encoding': 'Windows-1252', 'confidence': 0.73, 'language': ''}\n"
     ]
    },
    {
     "data": {
      "application/javascript": [
       "parent.postMessage({\"jupyterEvent\": \"custom.exercise_interaction\", \"data\": {\"outcomeType\": 1, \"valueTowardsCompletion\": 0.3333333333333333, \"interactionType\": 1, \"questionType\": 1, \"questionId\": \"2_ReadIn\", \"learnToolsVersion\": \"0.3.4\", \"failureMessage\": \"\", \"exceptionClass\": \"\", \"trace\": \"\"}}, \"*\")"
      ],
      "text/plain": [
       "<IPython.core.display.Javascript object>"
      ]
     },
     "metadata": {},
     "output_type": "display_data"
    },
    {
     "data": {
      "text/markdown": [
       "<span style=\"color:#33cc33\">Correct</span>"
      ],
      "text/plain": [
       "Correct"
      ]
     },
     "metadata": {},
     "output_type": "display_data"
    }
   ],
   "source": [
    "# TODO: Load in the DataFrame correctly.\n",
    "\n",
    "with open(\"../input/fatal-police-shootings-in-the-us/PoliceKillingsUS.csv\", 'rb') as rawdata:\n",
    "    result = chardet.detect(rawdata.read(90000))\n",
    "    \n",
    "print(result)\n",
    "\n",
    "police_killings = pd.read_csv(\"../input/fatal-police-shootings-in-the-us/PoliceKillingsUS.csv\", encoding='Windows-1252')\n",
    "\n",
    "police_killings.head()\n",
    "# Check your answer\n",
    "q2.check()"
   ]
  },
  {
   "cell_type": "markdown",
   "id": "05c047fc",
   "metadata": {
    "papermill": {
     "duration": 0.005784,
     "end_time": "2022-06-24T20:19:45.431310",
     "exception": false,
     "start_time": "2022-06-24T20:19:45.425526",
     "status": "completed"
    },
    "tags": []
   },
   "source": [
    "Feel free to use any additional code cells for supplemental work.  To get credit for finishing this question, you'll need to run `q2.check()` and get a result of **Correct**."
   ]
  },
  {
   "cell_type": "code",
   "execution_count": 7,
   "id": "0e21301b",
   "metadata": {
    "execution": {
     "iopub.execute_input": "2022-06-24T20:19:45.444211Z",
     "iopub.status.busy": "2022-06-24T20:19:45.443841Z",
     "iopub.status.idle": "2022-06-24T20:19:45.448783Z",
     "shell.execute_reply": "2022-06-24T20:19:45.447773Z"
    },
    "papermill": {
     "duration": 0.013908,
     "end_time": "2022-06-24T20:19:45.450885",
     "exception": false,
     "start_time": "2022-06-24T20:19:45.436977",
     "status": "completed"
    },
    "tags": []
   },
   "outputs": [],
   "source": [
    "# (Optional) Use this code cell for any additional work."
   ]
  },
  {
   "cell_type": "code",
   "execution_count": 8,
   "id": "32ff198a",
   "metadata": {
    "execution": {
     "iopub.execute_input": "2022-06-24T20:19:45.463779Z",
     "iopub.status.busy": "2022-06-24T20:19:45.463443Z",
     "iopub.status.idle": "2022-06-24T20:19:45.467788Z",
     "shell.execute_reply": "2022-06-24T20:19:45.466761Z"
    },
    "papermill": {
     "duration": 0.013409,
     "end_time": "2022-06-24T20:19:45.469994",
     "exception": false,
     "start_time": "2022-06-24T20:19:45.456585",
     "status": "completed"
    },
    "tags": []
   },
   "outputs": [],
   "source": [
    "# Lines below will give you a hint or solution code\n",
    "#q2.hint()\n",
    "#q2.solution()"
   ]
  },
  {
   "cell_type": "markdown",
   "id": "c490b7e5",
   "metadata": {
    "papermill": {
     "duration": 0.005518,
     "end_time": "2022-06-24T20:19:45.481182",
     "exception": false,
     "start_time": "2022-06-24T20:19:45.475664",
     "status": "completed"
    },
    "tags": []
   },
   "source": [
    "# 3) Saving your files with UTF-8 encoding\n",
    "\n",
    "Save a version of the police killings dataset to CSV with UTF-8 encoding.  Your answer will be marked correct after saving this file.  \n",
    "\n",
    "Note: When using the `to_csv()` method, supply only the name of the file (e.g., `\"my_file.csv\"`).  This saves the file at the filepath `\"/kaggle/working/my_file.csv\"`."
   ]
  },
  {
   "cell_type": "code",
   "execution_count": 9,
   "id": "ee97d390",
   "metadata": {
    "execution": {
     "iopub.execute_input": "2022-06-24T20:19:45.494001Z",
     "iopub.status.busy": "2022-06-24T20:19:45.493668Z",
     "iopub.status.idle": "2022-06-24T20:19:45.533974Z",
     "shell.execute_reply": "2022-06-24T20:19:45.532703Z"
    },
    "papermill": {
     "duration": 0.049496,
     "end_time": "2022-06-24T20:19:45.536250",
     "exception": false,
     "start_time": "2022-06-24T20:19:45.486754",
     "status": "completed"
    },
    "tags": []
   },
   "outputs": [
    {
     "data": {
      "application/javascript": [
       "parent.postMessage({\"jupyterEvent\": \"custom.exercise_interaction\", \"data\": {\"outcomeType\": 1, \"valueTowardsCompletion\": 0.3333333333333333, \"interactionType\": 1, \"questionType\": 2, \"questionId\": \"3_SaveCSV\", \"learnToolsVersion\": \"0.3.4\", \"failureMessage\": \"\", \"exceptionClass\": \"\", \"trace\": \"\"}}, \"*\")"
      ],
      "text/plain": [
       "<IPython.core.display.Javascript object>"
      ]
     },
     "metadata": {},
     "output_type": "display_data"
    },
    {
     "data": {
      "text/markdown": [
       "<span style=\"color:#33cc33\">Correct</span>"
      ],
      "text/plain": [
       "Correct"
      ]
     },
     "metadata": {},
     "output_type": "display_data"
    }
   ],
   "source": [
    "# TODO: Save the police killings dataset to CSV\n",
    "police_killings.to_csv(\"PoliceKillingsUS.csv\")\n",
    "\n",
    "# Check your answer\n",
    "q3.check()"
   ]
  },
  {
   "cell_type": "code",
   "execution_count": 10,
   "id": "85da3814",
   "metadata": {
    "execution": {
     "iopub.execute_input": "2022-06-24T20:19:45.550294Z",
     "iopub.status.busy": "2022-06-24T20:19:45.549464Z",
     "iopub.status.idle": "2022-06-24T20:19:45.553841Z",
     "shell.execute_reply": "2022-06-24T20:19:45.553093Z"
    },
    "papermill": {
     "duration": 0.013535,
     "end_time": "2022-06-24T20:19:45.555880",
     "exception": false,
     "start_time": "2022-06-24T20:19:45.542345",
     "status": "completed"
    },
    "tags": []
   },
   "outputs": [],
   "source": [
    "# Lines below will give you a hint or solution code\n",
    "#q3.hint()\n",
    "#q3.solution()"
   ]
  },
  {
   "cell_type": "markdown",
   "id": "d1f8e5ce",
   "metadata": {
    "papermill": {
     "duration": 0.005884,
     "end_time": "2022-06-24T20:19:45.568005",
     "exception": false,
     "start_time": "2022-06-24T20:19:45.562121",
     "status": "completed"
    },
    "tags": []
   },
   "source": [
    "# (Optional) More practice\n",
    "\n",
    "Check out [this dataset of files in different character encodings](https://www.kaggle.com/rtatman/character-encoding-examples). Can you read in all the files with their original encodings and them save them out as UTF-8 files?\n",
    "\n",
    "If you have a file that's in UTF-8 but has just a couple of weird-looking characters in it, you can try out the [ftfy module](https://ftfy.readthedocs.io/en/latest/#) and see if it helps. \n",
    "\n",
    "# Keep going\n",
    "\n",
    "In the final lesson, learn how to [**clean up inconsistent text entries**](https://www.kaggle.com/alexisbcook/inconsistent-data-entry) in your dataset."
   ]
  },
  {
   "cell_type": "markdown",
   "id": "d3b4fc75",
   "metadata": {
    "papermill": {
     "duration": 0.005753,
     "end_time": "2022-06-24T20:19:45.579744",
     "exception": false,
     "start_time": "2022-06-24T20:19:45.573991",
     "status": "completed"
    },
    "tags": []
   },
   "source": [
    "---\n",
    "\n",
    "\n",
    "\n",
    "\n",
    "*Have questions or comments? Visit the [course discussion forum](https://www.kaggle.com/learn/data-cleaning/discussion) to chat with other learners.*"
   ]
  }
 ],
 "metadata": {
  "kernelspec": {
   "display_name": "Python 3",
   "language": "python",
   "name": "python3"
  },
  "language_info": {
   "codemirror_mode": {
    "name": "ipython",
    "version": 3
   },
   "file_extension": ".py",
   "mimetype": "text/x-python",
   "name": "python",
   "nbconvert_exporter": "python",
   "pygments_lexer": "ipython3",
   "version": "3.7.12"
  },
  "papermill": {
   "default_parameters": {},
   "duration": 12.135955,
   "end_time": "2022-06-24T20:19:46.206874",
   "environment_variables": {},
   "exception": null,
   "input_path": "__notebook__.ipynb",
   "output_path": "__notebook__.ipynb",
   "parameters": {},
   "start_time": "2022-06-24T20:19:34.070919",
   "version": "2.3.4"
  }
 },
 "nbformat": 4,
 "nbformat_minor": 5
}
